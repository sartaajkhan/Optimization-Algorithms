{
 "cells": [
  {
   "cell_type": "code",
   "execution_count": 28,
   "metadata": {},
   "outputs": [],
   "source": [
    "from pderivative import partialDerivative\n",
    "from pderivative import multiOut\n",
    "from pderivative import grad\n",
    "from second_order import secondPartial\n",
    "from second_order import secondGrad\n",
    "from second_order import Hessian\n",
    "from second_order import inverseMatrix\n",
    "import numpy as np\n",
    "from math import *\n",
    "import statistics\n",
    "from operator import add\n",
    "from operator import mul\n",
    "from operator import sub\n",
    "from constrained_opt import Jacobian"
   ]
  },
  {
   "cell_type": "code",
   "execution_count": 22,
   "metadata": {},
   "outputs": [],
   "source": [
    "def NewtonMethod(func,X,Y):\n",
    "    \"\"\"\n",
    "    task: use Newton's method of unconstrained optimization to return {x1,x2,..,xN} for optimum value\n",
    "    input: objective function (func - str)\n",
    "    X: list of string variables: {x1,x2,...,xN} (string variables in a list)\n",
    "    Y: point of evaluation (initial guess) (int/floats in a list)\n",
    "    \n",
    "    \"\"\"\n",
    "    \n",
    "    solutionC = []\n",
    "    H = Hessian(func,X,Y)\n",
    "    Hinv = inverseMatrix(H)\n",
    "    guess = Y\n",
    "    \n",
    "    error = []\n",
    "    mean_error = 1\n",
    "    \n",
    "    while mean_error > 1e-12:\n",
    "        gradF = grad(func,X,guess)\n",
    "        H = Hessian(func,X,guess)\n",
    "        Hinv = inverseMatrix(H)\n",
    "        \n",
    "        mult = np.matmul(Hinv,gradF).tolist()\n",
    "        solutionC = list(map(sub,guess,mult))\n",
    "        \n",
    "        del error[:]\n",
    "        for k in range(0,len(solutionC)):\n",
    "            e = abs((solutionC[k]-guess[k])/guess[k])\n",
    "            error.append(e)\n",
    "        \n",
    "        guess = solutionC\n",
    "        mean_error = statistics.mean(error)\n",
    "        \n",
    "    if abs((solutionC[0]-guess[0])/guess[0]) > 1000:\n",
    "        raise ValueError(\"The guess gives divergent results.\")\n",
    "    \n",
    "    else:\n",
    "        pass\n",
    "    \n",
    "    return {'optimum solution: ': solutionC, 'error: ': mean_error}"
   ]
  },
  {
   "cell_type": "code",
   "execution_count": 27,
   "metadata": {},
   "outputs": [
    {
     "data": {
      "text/plain": [
       "{'optimum solution: ': [0.99999999995, -5e-11],\n",
       " 'error: ': 6.462348535570529e-17}"
      ]
     },
     "execution_count": 27,
     "metadata": {},
     "output_type": "execute_result"
    }
   ],
   "source": [
    "NewtonMethod('(x-1)**2 + y**2', ['x','y'],[-5,-5])"
   ]
  },
  {
   "cell_type": "code",
   "execution_count": null,
   "metadata": {},
   "outputs": [],
   "source": [
    "def QuasiNewton(func,X,Y):\n",
    "    \"\"\"\n",
    "    apply Quasi-Newton algorithm to determine optimum value of f = f(X1,X2,...,XN)\n",
    "    func - objective function (str)\n",
    "    X - list of string variables (list) {x1,x2,..,xN}\n",
    "    Y - initial guess (list)\n",
    "    \n",
    "    Algorithm under development\n",
    "    \"\"\"\n",
    "    \n",
    "    return False"
   ]
  }
 ],
 "metadata": {
  "kernelspec": {
   "display_name": "Python 3",
   "language": "python",
   "name": "python3"
  },
  "language_info": {
   "codemirror_mode": {
    "name": "ipython",
    "version": 3
   },
   "file_extension": ".py",
   "mimetype": "text/x-python",
   "name": "python",
   "nbconvert_exporter": "python",
   "pygments_lexer": "ipython3",
   "version": "3.6.10"
  }
 },
 "nbformat": 4,
 "nbformat_minor": 4
}
