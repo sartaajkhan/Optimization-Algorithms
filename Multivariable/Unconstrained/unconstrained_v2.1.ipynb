{
 "cells": [
  {
   "cell_type": "code",
   "execution_count": 1,
   "metadata": {},
   "outputs": [],
   "source": [
    "from pderivative import partialDerivative\n",
    "from pderivative import multiOut\n",
    "from pderivative import grad\n",
    "from second_order import secondPartial\n",
    "from second_order import secondGrad\n",
    "from second_order import Hessian\n",
    "from second_order import inverseMatrix\n",
    "import numpy as np\n",
    "from math import *\n",
    "import statistics\n",
    "from operator import add\n",
    "from operator import mul\n",
    "from operator import sub\n",
    "from constrained_opt import Jacobian"
   ]
  },
  {
   "cell_type": "code",
   "execution_count": 2,
   "metadata": {},
   "outputs": [],
   "source": [
    "def NewtonMethod(func,X,Y):\n",
    "    \"\"\"\n",
    "    task: use Newton's method of unconstrained optimization to return {x1,x2,..,xN} for optimum value\n",
    "    input: objective function (func - str)\n",
    "    X: list of string variables: {x1,x2,...,xN} (string variables in a list)\n",
    "    Y: point of evaluation (initial guess) (int/floats in a list)\n",
    "    \n",
    "    \"\"\"\n",
    "    \n",
    "    solutionC = []\n",
    "    H = Hessian(func,X,Y)\n",
    "    Hinv = inverseMatrix(H)\n",
    "    guess = Y\n",
    "    \n",
    "    error = []\n",
    "    mean_error = 1\n",
    "    \n",
    "    while mean_error > 1e-12:\n",
    "        gradF = grad(func,X,guess)\n",
    "        H = Hessian(func,X,guess)\n",
    "        Hinv = inverseMatrix(H)\n",
    "        \n",
    "        mult = np.matmul(Hinv,gradF).tolist()\n",
    "        solutionC = list(map(sub,guess,mult))\n",
    "        \n",
    "        del error[:]\n",
    "        for k in range(0,len(solutionC)):\n",
    "            e = abs((solutionC[k]-guess[k])/guess[k])\n",
    "            error.append(e)\n",
    "        \n",
    "        guess = solutionC\n",
    "        mean_error = statistics.mean(error)\n",
    "        \n",
    "    if abs((solutionC[0]-guess[0])/guess[0]) > 1000:\n",
    "        raise ValueError(\"The guess gives divergent results.\")\n",
    "    \n",
    "    else:\n",
    "        pass\n",
    "    \n",
    "    return {'optimum solution: ': solutionC, 'error: ': mean_error}"
   ]
  },
  {
   "cell_type": "code",
   "execution_count": 3,
   "metadata": {},
   "outputs": [
    {
     "data": {
      "text/plain": [
       "{'optimum solution: ': [0.99999999995, -5e-11],\n",
       " 'error: ': 6.462348535570529e-17}"
      ]
     },
     "execution_count": 3,
     "metadata": {},
     "output_type": "execute_result"
    }
   ],
   "source": [
    "NewtonMethod('(x-1)**2 + y**2', ['x','y'],[-5,-5])"
   ]
  },
  {
   "cell_type": "code",
   "execution_count": 39,
   "metadata": {},
   "outputs": [],
   "source": [
    "def Marquardt(func,X,Y):\n",
    "    \"\"\"\n",
    "    apply Marquardt algorithm to determine optimum value of f = f(X1,X2,...,XN)\n",
    "    func - objective function (str)\n",
    "    X - list of string variables (list) {x1,x2,..,xN}\n",
    "    Y - initial guess (list)\n",
    "    \n",
    "    The Marquardt algorithm is a combination of gradient descent and Newton's method.\n",
    "    This is version 1 of the Marquardt algorithm; this algorithm version proposes that:\n",
    "    X(i+1) = X(i) - Hinv*grad(F).transpose\n",
    "        if f[x(k+1)] < f[x(k)]: gamma(k+1) = gamma(k)/2\n",
    "        else: gamma(k+1) = 2*gamma(k)\n",
    "    \n",
    "    Version 2 will utilize the following development:\n",
    "    H_bar = H + gamma*I; I = identity matrix, H = Hessian matrix, H_bar = approximate Hessian\n",
    "    at first: utilize large values of gamma; H_bar = gamma*I; H_bar.inv = (1/gamma)*I\n",
    "    as you get closer to optimum, use Newton's method definition; H_bar = H\n",
    "    \"\"\"\n",
    "    gamma = 10\n",
    "    solutionC = []\n",
    "    mean_error = 1\n",
    "    guess = Y\n",
    "    error = []\n",
    "    \n",
    "    while mean_error > 1e-12:\n",
    "        H = Hessian(func,X,guess)\n",
    "        Hinv = inverseMatrix(H)\n",
    "        gradF = grad(func,X,guess)\n",
    "        \n",
    "        HinvdF = np.matmul(Hinv,gradF).tolist()\n",
    "        solutionC = list(map(sub,guess,HinvdF))\n",
    "        \n",
    "        f1 = multiOut(func,X,guess)\n",
    "        f2 = multiOut(func,X,solutionC)\n",
    "        \n",
    "        if f2 < f1:\n",
    "            gamma = gamma/2 #f[x(k+1)] < f[x(k)]; gamma(k+1) = gamma(k)/2\n",
    "        elif f2 > f1:\n",
    "            gamma = 2*gamma #f[x(k+1)] > f[x(k)]; gamma(k+1) = 2*gamma(k)\n",
    "        \n",
    "        \n",
    "        del error[:]\n",
    "        for k in range(0,len(solutionC)):\n",
    "            e = abs((solutionC[k]-guess[k])/guess[k])\n",
    "            error.append(e)\n",
    "        \n",
    "        guess = solutionC\n",
    "        mean_error = statistics.mean(error)\n",
    "        \n",
    "    return solutionC"
   ]
  },
  {
   "cell_type": "code",
   "execution_count": 40,
   "metadata": {},
   "outputs": [
    {
     "data": {
      "text/plain": [
       "[0.99999999995, -5e-11]"
      ]
     },
     "execution_count": 40,
     "metadata": {},
     "output_type": "execute_result"
    }
   ],
   "source": [
    "Marquardt('(x-1)**2 + y**2', ['x','y'],[-5,-5])"
   ]
  },
  {
   "cell_type": "code",
   "execution_count": null,
   "metadata": {},
   "outputs": [],
   "source": []
  }
 ],
 "metadata": {
  "kernelspec": {
   "display_name": "Python 3",
   "language": "python",
   "name": "python3"
  },
  "language_info": {
   "codemirror_mode": {
    "name": "ipython",
    "version": 3
   },
   "file_extension": ".py",
   "mimetype": "text/x-python",
   "name": "python",
   "nbconvert_exporter": "python",
   "pygments_lexer": "ipython3",
   "version": "3.6.10"
  }
 },
 "nbformat": 4,
 "nbformat_minor": 4
}
