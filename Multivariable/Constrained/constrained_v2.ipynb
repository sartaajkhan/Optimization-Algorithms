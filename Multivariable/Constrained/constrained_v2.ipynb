{
 "cells": [
  {
   "cell_type": "code",
   "execution_count": 1,
   "metadata": {},
   "outputs": [],
   "source": [
    "from pderivative import partialDerivative\n",
    "from pderivative import multiOut\n",
    "from pderivative import grad\n",
    "from multivar_optimization import multiGrad\n",
    "from math import *"
   ]
  },
  {
   "cell_type": "code",
   "execution_count": 2,
   "metadata": {},
   "outputs": [],
   "source": [
    "def multiGradConstraint(func,X,Y,constraint,option = None):\n",
    "    \"\"\"\n",
    "    task: calculate the optimum point for a multivariable function: F = F(x1,x2,...,xn)\n",
    "    func: objective function (str)\n",
    "    X: list of variables (strings) {x1,x2,...,xn}\n",
    "    Y: initial guess for the optimum value (list of int/floats)\n",
    "    constraint: [[x1,x2],[y1,y2]]\n",
    "    option: choose whether you want to solve maxima or minima. default option: minima\n",
    "    \n",
    "    output: {solution, mean error} (dict)\n",
    "    \"\"\"\n",
    "    solutionC = list()\n",
    "    extrema = list()\n",
    "    c = None\n",
    "    criteria = True\n",
    "    \n",
    "    if (option == None) or (option.lower() == 'minima'):\n",
    "        solution = multiGrad(func,X,Y)['optimum solution: ']\n",
    "        \n",
    "        if len(constraint) == len(solution):\n",
    "            for k in range(0,len(constraint)):\n",
    "                if (solution[k] >= constraint[k][0]) and (solution[k] <= constraint[k][1]):\n",
    "                    solutionC.append(solution[k])\n",
    "                else:\n",
    "                    criteria = False\n",
    "                    \n",
    "        else:\n",
    "            raise ValueError(\"dim(constraint) is not equal to dim(solution)\")\n",
    "    \n",
    "    if (option.lower() == 'maxima'):\n",
    "        solution = multiGrad(func,X,Y,option = 'maxima')['optimum solution: ']\n",
    "        \n",
    "        if len(constraint) == len(solution):\n",
    "            for k in range(0,len(constraint)):\n",
    "                if (solution[k] >= constraint[k][0]) and (solution[k] <= constraint[k][1]):\n",
    "                    solutionC.append(solution[k])\n",
    "                else:\n",
    "                    criteria = False\n",
    "        \n",
    "        else:\n",
    "            raise ValueError(\"dim(constraint) is not equal to dim(solution)\")\n",
    "    \n",
    "    if (criteria == False) and (option == None or option.lower() == 'minima'):\n",
    "        print(\"There is no local minima within set of constraints established.\")\n",
    "    \n",
    "    elif (criteria == False) and (option.lower() == 'maxima'):\n",
    "        print(\"There is no local maxima within set of constraints established.\")\n",
    "    \n",
    "    elif (criteria == True):\n",
    "        return solutionC\n",
    "    "
   ]
  },
  {
   "cell_type": "code",
   "execution_count": 3,
   "metadata": {},
   "outputs": [
    {
     "data": {
      "text/plain": [
       "[3.471964282653062e-05, 1.7211869817401748e-05]"
      ]
     },
     "execution_count": 3,
     "metadata": {},
     "output_type": "execute_result"
    }
   ],
   "source": [
    "#code shows constrained optimization case works for f(X,Y) = 50-x**2-2*y**2\n",
    "#constraints: {-5≤X≤5}, {-5≤Y≤5}\n",
    "multiGradConstraint('50-x**2-2*y**2',['x','y'],[1,1],[[-5,5],[-5,5]],option = 'maxima')"
   ]
  },
  {
   "cell_type": "code",
   "execution_count": 4,
   "metadata": {},
   "outputs": [
    {
     "name": "stdout",
     "output_type": "stream",
     "text": [
      "There is no local maxima within set of constraints established.\n"
     ]
    }
   ],
   "source": [
    "#code shows constrained optimization case fails for f(X,Y) = 50-x**2-2*y**2, as local maxima is at (0,0)\n",
    "#constraints: {10≤X≤20}, {10≤Y≤20}\n",
    "multiGradConstraint('50-x**2-2*y**2',['x','y'],[1,1],[[10,20],[10,20]],option = 'maxima')"
   ]
  },
  {
   "cell_type": "code",
   "execution_count": 5,
   "metadata": {},
   "outputs": [],
   "source": [
    "def Jacobian(func,X,Y):\n",
    "    \"\"\"\n",
    "    task: output jacobian matrix of f = [f1(x1,...,xn),f2(x1,...,xn),...,fm(x1,...,xn)]\n",
    "    func: set of multivariate functions\n",
    "    X: set of string variables in list: [x1,x2,...,xn]\n",
    "    Y: point of evaluation in list (integers in list)\n",
    "    dim(X) = dim(Y)\n",
    "    \n",
    "    output: Jacobian matrix; J(f); dim(J) = (m x n)\n",
    "    \"\"\"\n",
    "    J = []\n",
    "    m = len(func)\n",
    "    n = len(X)\n",
    "    f = None\n",
    "    \n",
    "    for k in range(0,m):\n",
    "        f = grad(func[k],X,Y)\n",
    "        J.append(f)\n",
    "    \n",
    "    #error check:\n",
    "    if (len(J) == m) and (len(J[0]) == len(X)):\n",
    "        return J\n",
    "    else:\n",
    "        raise ValueError(\"The dimensions of the Jacobian Matrix are inconsistent\")"
   ]
  },
  {
   "cell_type": "code",
   "execution_count": 6,
   "metadata": {},
   "outputs": [
    {
     "data": {
      "text/plain": [
       "[[2.000000165480742, 2.000000165480742],\n",
       " [-2.00003569261753, -4.000000330961484],\n",
       " [0.5403022473871033, 0.5403022473871033]]"
      ]
     },
     "execution_count": 6,
     "metadata": {},
     "output_type": "execute_result"
    }
   ],
   "source": [
    "func = ['x**2+y**2','50-x**2-2*y**2','sin(x*y)']\n",
    "X = ['x','y']\n",
    "Y = [1,1]\n",
    "Jacobian(func,X,Y)"
   ]
  },
  {
   "cell_type": "code",
   "execution_count": 20,
   "metadata": {},
   "outputs": [],
   "source": [
    "def secondPartial(func,X,Y,diff1,diff2):\n",
    "    \"\"\"\n",
    "    func -> objective function (str)\n",
    "    X: list of string variables of interest (list)\n",
    "    Y: point of evaluation (list)\n",
    "    diff1: differentiate with respect to this variable (str)\n",
    "    diff2: differentiate a second time with respect to this variable (str)\n",
    "    \n",
    "    output: second partial derivative\n",
    "    lim h->0 (f(x1,x2,..,(xL+h),..,(xU+h),..,xN) - f(x1,x2,..,(xL+h),..,xU,..xN) - f(x1,..,xL,..,(xU+h),..,xN) + f(\n",
    "    x1,x2,...,xN)/(h**2)\n",
    "    \"\"\"\n",
    "    \n",
    "    math_ops = {'sqrt':sqrt,'log':log,'sin':sin,'cos':cos,'tan':tan,\n",
    "                'asin':asin, 'acos':acos, 'atan':atan, 'asinh':asinh, 'acosh':acosh,\n",
    "                'atanh':atanh, 'pow':pow, 'exp':exp,\n",
    "                'fabs':fabs, 'factorial': factorial, 'floor': floor}\n",
    "    \n",
    "    h = 0.00001\n",
    "    D = {}\n",
    "    D1 = {}\n",
    "    D2 = {}\n",
    "    D3 = {}\n",
    "    \n",
    "    if len(X) == len(Y):\n",
    "        if diff1 != diff2:\n",
    "            #MAPPING: X[i] -> Y[i]:\n",
    "            for k in range(0,len(X)):\n",
    "                D[X[k]] = Y[k] #{'x1':A1, 'x2': A2, ...., 'xN':AN}\n",
    "\n",
    "            seg1 = eval(func,D,math_ops) #f(x1,x2,....,xN)\n",
    "            \n",
    "            #f(x1,x2,...,(xL+h),..,(xU+h),...,xN)\n",
    "            for k in D.keys():\n",
    "                if (k == diff1) or (k == diff2):\n",
    "                    D1[k] = D[k] + h\n",
    "                else:\n",
    "                    D1[k] = D[k]\n",
    "            \n",
    "            seg2 = eval(func,D1,math_ops)\n",
    "            \n",
    "            #f(x1,x2,...,(xL+h),...,xU,...,xN)\n",
    "            for k in D.keys():\n",
    "                if (k == diff1):\n",
    "                    D2[k] = D[k] + h\n",
    "                else:\n",
    "                    D2[k] = D[k]\n",
    "            \n",
    "            seg3 = eval(func, D2, math_ops)\n",
    "            \n",
    "            #f(x1,x2,...,xL,...,(xU+h),...,xN)\n",
    "            for k in D.keys():\n",
    "                if (k == diff2):\n",
    "                    D3[k] = D[k] + h\n",
    "                else:\n",
    "                    D3[k] = D[k]\n",
    "            \n",
    "            seg4 = eval(func,D3,math_ops)\n",
    "            \n",
    "            return (seg2 - seg3 - seg4 + seg1)/(h**2)\n",
    "        \n",
    "        elif (diff1 == diff2):\n",
    "            \n",
    "            for k in range(0,len(X)):\n",
    "                D[X[k]] = Y[k] #{'x1':A1, 'x2': A2, ...., 'xN':AN}\n",
    "\n",
    "            seg1 = eval(func,D,math_ops) #f(x1,x2,....,xN)\n",
    "            \n",
    "            #f(x1,x2,...,(xL+h),...,xN)\n",
    "            for k in D.keys():\n",
    "                if (k == diff1):\n",
    "                    D1[k] = D[k] + h\n",
    "                else:\n",
    "                    D1[k] = D[k]\n",
    "            \n",
    "            seg2 = eval(func,D1,math_ops)\n",
    "            \n",
    "            #f(x1,x2,...,(xL+2h),...,xU,...,xN)\n",
    "            for k in D.keys():\n",
    "                if (k == diff1):\n",
    "                    D2[k] = D[k] + 2*h\n",
    "                else:\n",
    "                    D2[k] = D[k]\n",
    "            \n",
    "            seg3 = eval(func, D2, math_ops)\n",
    "            \n",
    "            return (seg3 - 2*seg2 + seg1)/(h**2)\n",
    "    \n",
    "    else:\n",
    "        raise ValueError(\"dim(X) is not equal to dim(Y).\")"
   ]
  },
  {
   "cell_type": "code",
   "execution_count": 22,
   "metadata": {},
   "outputs": [
    {
     "data": {
      "text/plain": [
       "8.273817828780004e-08"
      ]
     },
     "execution_count": 22,
     "metadata": {},
     "output_type": "execute_result"
    }
   ],
   "source": [
    "secondPartial('log(x*y)', ['x','y'],[1,1],'x','y')"
   ]
  },
  {
   "cell_type": "code",
   "execution_count": 23,
   "metadata": {},
   "outputs": [],
   "source": [
    "def secondGrad(func,X,Y,diff1):\n",
    "    \"\"\"\n",
    "    input: objective function, func (str)\n",
    "    X: list of variables (list of str)\n",
    "    Y: point of evaluation (list of int/float)\n",
    "    \n",
    "    this is required to construct the Hessian matrix\n",
    "    for f = f(x1,x2,...,xN):\n",
    "    [d2f/d(diff*x1), d2f/d(diff*x2), ..., d2f/d(diff*diff),..., d2f/d(diff*xN)]\n",
    "    \"\"\"\n",
    "    \n",
    "    math_ops = {'sqrt':sqrt,'log':log,'sin':sin,'cos':cos,'tan':tan,\n",
    "                'asin':asin, 'acos':acos, 'atan':atan, 'asinh':asinh, 'acosh':acosh,\n",
    "                'atanh':atanh, 'pow':pow, 'exp':exp,\n",
    "                'fabs':fabs, 'factorial': factorial, 'floor': floor}\n",
    "    \n",
    "    sGrad = []\n",
    "    \n",
    "    for k in range(0,len(X)):\n",
    "        s = secondPartial(func,X,Y,diff1,X[k])\n",
    "        sGrad.append(s)\n",
    "    \n",
    "    return sGrad"
   ]
  },
  {
   "cell_type": "code",
   "execution_count": 24,
   "metadata": {},
   "outputs": [
    {
     "data": {
      "text/plain": [
       "[-0.9999822207467484, 8.273817828780004e-08]"
      ]
     },
     "execution_count": 24,
     "metadata": {},
     "output_type": "execute_result"
    }
   ],
   "source": [
    "secondGrad('log(x*y)',['x','y'],[1,1],'x')"
   ]
  },
  {
   "cell_type": "code",
   "execution_count": 25,
   "metadata": {},
   "outputs": [],
   "source": [
    "def Hessian(func,X,Y):\n",
    "    \"\"\"\n",
    "    task: construct Hessian matrix\n",
    "    input: objective function, func (str)\n",
    "    X: list of variables (list of str)\n",
    "    Y: point of evaluation (list of int/float)\n",
    "    \n",
    "    output: Hessian matrix: [[A11,A12..,A1N],[A21,A22,....,A2N]]\n",
    "    \"\"\"\n",
    "    \n",
    "    math_ops = {'sqrt':sqrt,'log':log,'sin':sin,'cos':cos,'tan':tan,\n",
    "                'asin':asin, 'acos':acos, 'atan':atan, 'asinh':asinh, 'acosh':acosh,\n",
    "                'atanh':atanh, 'pow':pow, 'exp':exp,\n",
    "                'fabs':fabs, 'factorial': factorial, 'floor': floor}\n",
    "    \n",
    "    hessian = []\n",
    "    \n",
    "    for k in range(0,len(X)):\n",
    "        D = X[k]\n",
    "        hessian.append(secondGrad(func,X,Y,D))\n",
    "    \n",
    "    return hessian"
   ]
  },
  {
   "cell_type": "code",
   "execution_count": 27,
   "metadata": {},
   "outputs": [
    {
     "data": {
      "text/plain": [
       "[[6.000107077852589, -1.9998935840703778],\n",
       " [-1.9998935840703778, -480.0095609880372]]"
      ]
     },
     "execution_count": 27,
     "metadata": {},
     "output_type": "execute_result"
    }
   ],
   "source": [
    "func = 'x**3 - 2*x*y - y**6'\n",
    "X = ['x','y']\n",
    "Y = [1,2]\n",
    "Hessian(func,X,Y)"
   ]
  },
  {
   "cell_type": "code",
   "execution_count": null,
   "metadata": {},
   "outputs": [],
   "source": []
  }
 ],
 "metadata": {
  "kernelspec": {
   "display_name": "Python 3",
   "language": "python",
   "name": "python3"
  },
  "language_info": {
   "codemirror_mode": {
    "name": "ipython",
    "version": 3
   },
   "file_extension": ".py",
   "mimetype": "text/x-python",
   "name": "python",
   "nbconvert_exporter": "python",
   "pygments_lexer": "ipython3",
   "version": "3.6.10"
  }
 },
 "nbformat": 4,
 "nbformat_minor": 4
}
