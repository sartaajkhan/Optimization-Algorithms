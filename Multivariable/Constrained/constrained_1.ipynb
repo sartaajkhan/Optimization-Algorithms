{
 "cells": [
  {
   "cell_type": "code",
   "execution_count": 1,
   "metadata": {},
   "outputs": [],
   "source": [
    "from pderivative import partialDerivative\n",
    "from pderivative import multiOut\n",
    "from pderivative import grad\n",
    "from multivar_optimization import multiGrad\n",
    "from math import *"
   ]
  },
  {
   "cell_type": "code",
   "execution_count": 2,
   "metadata": {},
   "outputs": [],
   "source": [
    "def multiGradConstraint(func,X,Y,constraint,option = None):\n",
    "    \"\"\"\n",
    "    task: calculate the optimum point for a multivariable function: F = F(x1,x2,...,xn)\n",
    "    func: objective function (str)\n",
    "    X: list of variables (strings) {x1,x2,...,xn}\n",
    "    Y: initial guess for the optimum value (list of int/floats)\n",
    "    constraint: [[x1,x2],[y1,y2]]\n",
    "    option: choose whether you want to solve maxima or minima. default option: minima\n",
    "    \n",
    "    output: {solution, mean error} (dict)\n",
    "    \"\"\"\n",
    "    solutionC = list()\n",
    "    extrema = list()\n",
    "    c = None\n",
    "    criteria = True\n",
    "    \n",
    "    if (option == None) or (option.lower() == 'minima'):\n",
    "        solution = multiGrad(func,X,Y)['optimum solution: ']\n",
    "        \n",
    "        if len(constraint) == len(solution):\n",
    "            for k in range(0,len(constraint)):\n",
    "                if (solution[k] >= constraint[k][0]) and (solution[k] <= constraint[k][1]):\n",
    "                    solutionC.append(solution[k])\n",
    "                else:\n",
    "                    criteria = False\n",
    "                    \n",
    "        else:\n",
    "            raise ValueError(\"dim(constraint) is not equal to dim(solution)\")\n",
    "    \n",
    "    if (option.lower() == 'maxima'):\n",
    "        solution = multiGrad(func,X,Y,option = 'maxima')['optimum solution: ']\n",
    "        \n",
    "        if len(constraint) == len(solution):\n",
    "            for k in range(0,len(constraint)):\n",
    "                if (solution[k] >= constraint[k][0]) and (solution[k] <= constraint[k][1]):\n",
    "                    solutionC.append(solution[k])\n",
    "                else:\n",
    "                    criteria = False\n",
    "        \n",
    "        else:\n",
    "            raise ValueError(\"dim(constraint) is not equal to dim(solution)\")\n",
    "    \n",
    "    if (criteria == False) and (option == None or option.lower() == 'minima'):\n",
    "        print(\"There is no local minima within set of constraints established.\")\n",
    "    \n",
    "    elif (criteria == False) and (option.lower() == 'maxima'):\n",
    "        print(\"There is no local maxima within set of constraints established.\")\n",
    "    \n",
    "    elif (criteria == True):\n",
    "        return solutionC\n",
    "    "
   ]
  },
  {
   "cell_type": "code",
   "execution_count": 3,
   "metadata": {},
   "outputs": [
    {
     "data": {
      "text/plain": [
       "[3.471964282653062e-05, 1.7211869817401748e-05]"
      ]
     },
     "execution_count": 3,
     "metadata": {},
     "output_type": "execute_result"
    }
   ],
   "source": [
    "#code shows constrained optimization case works for f(X,Y) = 50-x**2-2*y**2\n",
    "#constraints: {-5≤X≤5}, {-5≤Y≤5}\n",
    "multiGradConstraint('50-x**2-2*y**2',['x','y'],[1,1],[[-5,5],[-5,5]],option = 'maxima')"
   ]
  },
  {
   "cell_type": "code",
   "execution_count": 4,
   "metadata": {},
   "outputs": [
    {
     "name": "stdout",
     "output_type": "stream",
     "text": [
      "There is no local maxima within set of constraints established.\n"
     ]
    }
   ],
   "source": [
    "#code shows constrained optimization case fails for f(X,Y) = 50-x**2-2*y**2, as local maxima is at (0,0)\n",
    "#constraints: {10≤X≤20}, {10≤Y≤20}\n",
    "multiGradConstraint('50-x**2-2*y**2',['x','y'],[1,1],[[10,20],[10,20]],option = 'maxima')"
   ]
  },
  {
   "cell_type": "code",
   "execution_count": 3,
   "metadata": {},
   "outputs": [],
   "source": [
    "def Jacobian(func,X,Y):\n",
    "    \"\"\"\n",
    "    task: output jacobian matrix of f = [f1(x1,...,xn),f2(x1,...,xn),...,fm(x1,...,xn)]\n",
    "    func: set of multivariate functions\n",
    "    X: set of string variables in list: [x1,x2,...,xn]\n",
    "    Y: point of evaluation in list (integers in list)\n",
    "    dim(X) = dim(Y)\n",
    "    \n",
    "    output: Jacobian matrix; J(f); dim(J) = (m x n)\n",
    "    \"\"\"\n",
    "    J = []\n",
    "    m = len(func)\n",
    "    n = len(X)\n",
    "    f = None\n",
    "    \n",
    "    for k in range(0,m):\n",
    "        f = grad(func[k],X,Y)\n",
    "        J.append(f)\n",
    "    \n",
    "    #error check:\n",
    "    if (len(J) == m) and (len(J[0]) == len(X)):\n",
    "        return J\n",
    "    else:\n",
    "        raise ValueError(\"The dimensions of the Jacobian Matrix are inconsistent\")"
   ]
  },
  {
   "cell_type": "code",
   "execution_count": 8,
   "metadata": {},
   "outputs": [
    {
     "data": {
      "text/plain": [
       "[[2.000000165480742, 2.000000165480742],\n",
       " [-2.00003569261753, -4.000000330961484],\n",
       " [0.5403022473871033, 0.5403022473871033]]"
      ]
     },
     "execution_count": 8,
     "metadata": {},
     "output_type": "execute_result"
    }
   ],
   "source": [
    "func = ['x**2+y**2','50-x**2-2*y**2','sin(x*y)']\n",
    "X = ['x','y']\n",
    "Y = [1,1]\n",
    "Jacobian(func,X,Y)"
   ]
  },
  {
   "cell_type": "code",
   "execution_count": null,
   "metadata": {},
   "outputs": [],
   "source": []
  }
 ],
 "metadata": {
  "kernelspec": {
   "display_name": "Python 3",
   "language": "python",
   "name": "python3"
  },
  "language_info": {
   "codemirror_mode": {
    "name": "ipython",
    "version": 3
   },
   "file_extension": ".py",
   "mimetype": "text/x-python",
   "name": "python",
   "nbconvert_exporter": "python",
   "pygments_lexer": "ipython3",
   "version": "3.6.10"
  }
 },
 "nbformat": 4,
 "nbformat_minor": 4
}
