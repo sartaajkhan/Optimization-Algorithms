{
 "cells": [
  {
   "cell_type": "code",
   "execution_count": 14,
   "metadata": {},
   "outputs": [],
   "source": [
    "from pderivative import partialDerivative\n",
    "from pderivative import multiOut\n",
    "from pderivative import grad\n",
    "from multivar_optimization import multiGrad\n",
    "import math"
   ]
  },
  {
   "cell_type": "code",
   "execution_count": 28,
   "metadata": {},
   "outputs": [],
   "source": [
    "def multiGradConstraint(func,X,Y,constraint,option = None):\n",
    "    \"\"\"\n",
    "    task: calculate the optimum point for a multivariable function: F = F(x1,x2,...,xn)\n",
    "    func: objective function (str)\n",
    "    X: list of variables (strings) {x1,x2,...,xn}\n",
    "    Y: initial guess for the optimum value (list of int/floats)\n",
    "    constraint: [[x1,x2],[y1,y2]]\n",
    "    option: choose whether you want to solve maxima or minima. default option: minima\n",
    "    \n",
    "    output: {solution, mean error} (dict)\n",
    "    \"\"\"\n",
    "    solutionC = list()\n",
    "    extrema = list()\n",
    "    c = None\n",
    "    criteria = True\n",
    "    \n",
    "    if (option == None) or (option.lower() == 'minima'):\n",
    "        solution = multiGrad(func,X,Y)['optimum solution: ']\n",
    "        \n",
    "        if len(constraint) == len(solution):\n",
    "            for k in range(0,len(constraint)):\n",
    "                if (solution[k] >= constraint[k][0]) and (solution[k] <= constraint[k][1]):\n",
    "                    solutionC.append(solution[k])\n",
    "                else:\n",
    "                    criteria = False\n",
    "                    \n",
    "        else:\n",
    "            raise ValueError(\"dim(constraint) is not equal to dim(solution)\")\n",
    "    \n",
    "    if (option.lower() == 'maxima'):\n",
    "        solution = multiGrad(func,X,Y,option = 'maxima')['optimum solution: ']\n",
    "        \n",
    "        if len(constraint) == len(solution):\n",
    "            for k in range(0,len(constraint)):\n",
    "                if (solution[k] >= constraint[k][0]) and (solution[k] <= constraint[k][1]):\n",
    "                    solutionC.append(solution[k])\n",
    "                else:\n",
    "                    criteria = False\n",
    "        \n",
    "        else:\n",
    "            raise ValueError(\"dim(constraint) is not equal to dim(solution)\")\n",
    "    \n",
    "    if (criteria == False) and (option == None or option.lower() == 'minima'):\n",
    "        print(\"There is no local minima within set of constraints established.\")\n",
    "    \n",
    "    elif (criteria == False) and (option.lower() == 'maxima'):\n",
    "        print(\"There is no local maxima within set of constraints established.\")\n",
    "    \n",
    "    elif (criteria == True):\n",
    "        return solutionC\n",
    "    "
   ]
  },
  {
   "cell_type": "code",
   "execution_count": 31,
   "metadata": {},
   "outputs": [
    {
     "data": {
      "text/plain": [
       "[3.471964282653062e-05, 1.7211869817401748e-05]"
      ]
     },
     "execution_count": 31,
     "metadata": {},
     "output_type": "execute_result"
    }
   ],
   "source": [
    "#code shows constrained optimization case works for f(X,Y) = 50-x**2-2*y**2\n",
    "#constraints: {-5≤X≤5}, {-5≤Y≤5}\n",
    "multiGradConstraint('50-x**2-2*y**2',['x','y'],[1,1],[[-5,5],[-5,5]],option = 'maxima')"
   ]
  },
  {
   "cell_type": "code",
   "execution_count": 32,
   "metadata": {},
   "outputs": [
    {
     "name": "stdout",
     "output_type": "stream",
     "text": [
      "There is no local maxima within set of constraints established.\n"
     ]
    }
   ],
   "source": [
    "#code shows constrained optimization case fails for f(X,Y) = 50-x**2-2*y**2, as local maxima is at (0,0)\n",
    "#constraints: {10≤X≤20}, {10≤Y≤20}\n",
    "multiGradConstraint('50-x**2-2*y**2',['x','y'],[1,1],[[10,20],[10,20]],option = 'maxima')"
   ]
  }
 ],
 "metadata": {
  "kernelspec": {
   "display_name": "Python 3",
   "language": "python",
   "name": "python3"
  },
  "language_info": {
   "codemirror_mode": {
    "name": "ipython",
    "version": 3
   },
   "file_extension": ".py",
   "mimetype": "text/x-python",
   "name": "python",
   "nbconvert_exporter": "python",
   "pygments_lexer": "ipython3",
   "version": "3.6.10"
  }
 },
 "nbformat": 4,
 "nbformat_minor": 4
}
