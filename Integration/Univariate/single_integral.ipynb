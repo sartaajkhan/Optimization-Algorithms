{
 "cells": [
  {
   "cell_type": "code",
   "execution_count": 1,
   "metadata": {},
   "outputs": [],
   "source": [
    "from math import *"
   ]
  },
  {
   "cell_type": "code",
   "execution_count": 2,
   "metadata": {},
   "outputs": [],
   "source": [
    "def outputfunc(func,x,var_name):\n",
    "    \"\"\"\n",
    "    task: computes function\n",
    "    func: function of interest (str)\n",
    "    x: variable substituted into function (int/float)\n",
    "    var_name: variable name to be substituted in (str)\n",
    "    \"\"\"\n",
    "    \n",
    "    math_ops = {'sqrt':sqrt,'log':log,'sin':sin,'cos':cos,'tan':tan,\n",
    "                'asin':asin, 'acos':acos, 'atan':atan, 'asinh':asinh, 'acosh':acosh,\n",
    "                'atanh':atanh, 'pow':pow, 'exp':exp,\n",
    "                'fabs':fabs, 'factorial': factorial, 'floor': floor}\n",
    "    \n",
    "    y = eval(func, {var_name: x}, math_ops)\n",
    "    return y"
   ]
  },
  {
   "cell_type": "code",
   "execution_count": 17,
   "metadata": {},
   "outputs": [],
   "source": [
    "def LeftHandRule(func,a,b,var_name,dx = 0.00001):\n",
    "    \"\"\"\n",
    "    uses left-hand rule to integrate a single variable function f = f(X) from a≤X≤b\n",
    "    input: function of interest (str), a (lower bound), b (upper bound)\n",
    "    output: approximation of definite integral of f(X) from a to b\n",
    "    \"\"\"\n",
    "    a_update = a\n",
    "    LHR = 0\n",
    "    \n",
    "    if a == b:\n",
    "        return 0\n",
    "    elif a < b:\n",
    "        while a_update < (b-dx):\n",
    "            LHR = LHR + (outputfunc(func,a_update,var_name)*dx)\n",
    "            a_update = a_update + dx\n",
    "        \n",
    "        return LHR\n",
    "    elif b < a:\n",
    "        while a_update < (b-dx):\n",
    "            LHR = LHR + (outputfunc(func,a_update,var_name)*dx)\n",
    "            a_update = a_update + dx\n",
    "            \n",
    "        return -1*LHR\n"
   ]
  },
  {
   "cell_type": "code",
   "execution_count": 18,
   "metadata": {},
   "outputs": [
    {
     "data": {
      "text/plain": [
       "17.99991000079036"
      ]
     },
     "execution_count": 18,
     "metadata": {},
     "output_type": "execute_result"
    }
   ],
   "source": [
    "#uses left hand rule to test f(X) = x**2\n",
    "func = 'x**2'\n",
    "a = -3\n",
    "b = 3\n",
    "var_name = 'x'\n",
    "LeftHandRule(func,a,b,var_name)"
   ]
  },
  {
   "cell_type": "code",
   "execution_count": 19,
   "metadata": {},
   "outputs": [],
   "source": [
    "def RightHandRule(func,a,b,var_name,dx = 0.00001):\n",
    "    \"\"\"\n",
    "    uses right-hand rule to integrate a single variable function f = f(X) from a≤X≤b\n",
    "    input: function of interest (str), a (lower bound), b (upper bound)\n",
    "    output: approximation of definite integral of f(X) from a to b\n",
    "    \"\"\"\n",
    "    a_update = a + dx\n",
    "    RHR = 0\n",
    "    \n",
    "    if a == b:\n",
    "        return 0\n",
    "    elif a < b:\n",
    "        while a_update < b:\n",
    "            RHR = RHR + (outputfunc(func,a_update,var_name)*dx)\n",
    "            a_update = a_update + dx\n",
    "        \n",
    "        return RHR\n",
    "    elif b < a:\n",
    "        while a_update < b:\n",
    "            RHR = RHR + (outputfunc(func,a_update,var_name)*dx)\n",
    "            a_update = a_update + dx\n",
    "        \n",
    "        return -1*RHR"
   ]
  },
  {
   "cell_type": "code",
   "execution_count": 20,
   "metadata": {},
   "outputs": [
    {
     "data": {
      "text/plain": [
       "17.999910000190365"
      ]
     },
     "execution_count": 20,
     "metadata": {},
     "output_type": "execute_result"
    }
   ],
   "source": [
    "#uses right hand rule to test f(X) = x**2\n",
    "func = 'x**2'\n",
    "a = -3\n",
    "b = 3\n",
    "var_name = 'x'\n",
    "RightHandRule(func,a,b,var_name)"
   ]
  },
  {
   "cell_type": "code",
   "execution_count": 27,
   "metadata": {},
   "outputs": [],
   "source": [
    "def Midpoint(func,a,b,var_name,n = 20000):\n",
    "    \"\"\"\n",
    "    uses midpoint rule to integrate a single variable function f = f(X) from a≤X≤b\n",
    "    input: function of interest (str), a (lower bound), b (upper bound)\n",
    "    output: approximation of definite integral of f(X) from a to b\n",
    "    \"\"\"\n",
    "    h = (b-a)/n\n",
    "    c = 0\n",
    "    MP = 0\n",
    "    xi = a\n",
    "    \n",
    "    if a == b:\n",
    "        return 0\n",
    "    elif a < b:\n",
    "        while c < (n-1):\n",
    "            x1 = xi + h\n",
    "            x2 = (xi + x1)/2\n",
    "            MP = MP + (outputfunc(func,x2,var_name)*h)\n",
    "            xi = xi + h\n",
    "            c = c + 1\n",
    "        \n",
    "        return MP\n",
    "    elif b < a:\n",
    "        while c < (n-1):\n",
    "            x1 = xi + h\n",
    "            x2 = (xi + x1)/2\n",
    "            MP = MP + (outputfunc(func,x2,var_name)*h)\n",
    "            xi = xi + h\n",
    "            c = c + 1\n",
    "        \n",
    "        return -1*MP\n"
   ]
  },
  {
   "cell_type": "code",
   "execution_count": 30,
   "metadata": {},
   "outputs": [
    {
     "data": {
      "text/plain": [
       "17.99730022499443"
      ]
     },
     "execution_count": 30,
     "metadata": {},
     "output_type": "execute_result"
    }
   ],
   "source": [
    "#uses midpoint rule to test f(X) = x**2\n",
    "func = 'x**2'\n",
    "a = -3\n",
    "b = 3\n",
    "var_name = 'x'\n",
    "Midpoint(func,a,b,var_name)"
   ]
  },
  {
   "cell_type": "code",
   "execution_count": 32,
   "metadata": {},
   "outputs": [],
   "source": [
    "def Trapezoid(func,a,b,var_name,n = 20000):\n",
    "    \"\"\"\n",
    "    uses trapezoid rule to integrate a single variable function f = f(X) from a≤X≤b\n",
    "    input: function of interest (str), a (lower bound), b (upper bound)\n",
    "    output: approximation of definite integral of f(X) from a to b\n",
    "    \"\"\"\n",
    "    h = (b-a)/n\n",
    "    c = 0\n",
    "    T = 0\n",
    "    xi = a\n",
    "    yi = outputfunc(func,xi,var_name)\n",
    "    \n",
    "    if a == b:\n",
    "        return 0\n",
    "    elif a < b:\n",
    "        while c < n:\n",
    "            yi = outputfunc(func,xi,var_name)\n",
    "            x1 = xi + h\n",
    "            y1 = outputfunc(func,x1,var_name)\n",
    "            p = ((yi + y1)/2)*h\n",
    "            T = T + p\n",
    "            xi = xi + h\n",
    "            c = c + 1\n",
    "        \n",
    "        return T\n",
    "    elif b < a:\n",
    "        while c < n:\n",
    "            x1 = xi + h\n",
    "            y1 = outputfunc(func,x1,var_name)\n",
    "            p = ((yi + y1)/2)*h\n",
    "            T = T + p\n",
    "            xi = xi + h\n",
    "            c = c + 1\n",
    "        \n",
    "        return -1*T"
   ]
  },
  {
   "cell_type": "code",
   "execution_count": 35,
   "metadata": {},
   "outputs": [
    {
     "data": {
      "text/plain": [
       "18.000000090001176"
      ]
     },
     "execution_count": 35,
     "metadata": {},
     "output_type": "execute_result"
    }
   ],
   "source": [
    "#uses trapezoid rule to test f(X) = x**2\n",
    "func = 'x**2'\n",
    "a = -3\n",
    "b = 3\n",
    "var_name = 'x'\n",
    "Trapezoid(func,a,b,var_name)"
   ]
  },
  {
   "cell_type": "code",
   "execution_count": 42,
   "metadata": {},
   "outputs": [],
   "source": [
    "def Simpson(func,a,b,var_name,n = 20000):\n",
    "    \"\"\"\n",
    "    uses simpson's rule to integrate a single variable function f = f(X) from a≤X≤b\n",
    "    input: function of interest (str), a (lower bound), b (upper bound)\n",
    "    output: approximation of definite integral of f(X) from a to b\n",
    "    \"\"\"\n",
    "    h = (b-a)/n\n",
    "    c = 0\n",
    "    S = 0\n",
    "    xi = a\n",
    "    \n",
    "    if a == b:\n",
    "        return 0\n",
    "    elif a < b:\n",
    "        while c < n:\n",
    "            yi = outputfunc(func,xi,var_name)\n",
    "            y1 = 4*outputfunc(func,(xi+0.5*h),var_name)\n",
    "            y2 = outputfunc(func,(xi+h),var_name)\n",
    "            p = h*(yi+y1+y2)\n",
    "            S = S + p\n",
    "            xi = xi + h\n",
    "            c = c + 1\n",
    "        \n",
    "        return (1/6)*S\n",
    "    elif b < a:\n",
    "        while c < n:\n",
    "            yi = outputfunc(func,xi,var_name)\n",
    "            y1 = 4*outputfunc(func,(xi+0.5*h),var_name)\n",
    "            y2 = outputfunc(func,(xi+h),var_name)\n",
    "            p = h*(yi+y1+y2)\n",
    "            S = S + p\n",
    "            xi = xi + h\n",
    "            c = c + 1\n",
    "        \n",
    "        return (-1/6)*S"
   ]
  },
  {
   "cell_type": "code",
   "execution_count": 43,
   "metadata": {},
   "outputs": [
    {
     "data": {
      "text/plain": [
       "18.000000000001172"
      ]
     },
     "execution_count": 43,
     "metadata": {},
     "output_type": "execute_result"
    }
   ],
   "source": [
    "#uses simpson's rule to test f(X) = x**2\n",
    "func = 'x**2'\n",
    "a = -3\n",
    "b = 3\n",
    "var_name = 'x'\n",
    "Simpson(func,a,b,var_name)"
   ]
  },
  {
   "cell_type": "code",
   "execution_count": null,
   "metadata": {},
   "outputs": [],
   "source": []
  }
 ],
 "metadata": {
  "kernelspec": {
   "display_name": "Python 3",
   "language": "python",
   "name": "python3"
  },
  "language_info": {
   "codemirror_mode": {
    "name": "ipython",
    "version": 3
   },
   "file_extension": ".py",
   "mimetype": "text/x-python",
   "name": "python",
   "nbconvert_exporter": "python",
   "pygments_lexer": "ipython3",
   "version": "3.6.10"
  }
 },
 "nbformat": 4,
 "nbformat_minor": 4
}
